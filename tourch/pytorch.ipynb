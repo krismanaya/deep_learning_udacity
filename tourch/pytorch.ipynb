{
 "cells": [
  {
   "cell_type": "code",
   "execution_count": 1,
   "metadata": {
    "collapsed": true
   },
   "outputs": [],
   "source": [
    "from __future__ import print_function\n",
    "import torch"
   ]
  },
  {
   "cell_type": "code",
   "execution_count": 5,
   "metadata": {
    "collapsed": false
   },
   "outputs": [
    {
     "name": "stdout",
     "output_type": "stream",
     "text": [
      "\n",
      " 0.0000e+00  1.0842e-19  0.0000e+00\n",
      " 1.0842e-19 -3.3424e+28  4.5761e-41\n",
      "-3.3555e+28  4.5761e-41 -3.3555e+28\n",
      " 4.5761e-41  0.0000e+00  4.2039e-45\n",
      " 0.0000e+00  0.0000e+00  7.0065e-45\n",
      "[torch.FloatTensor of size 5x3]\n",
      "\n"
     ]
    }
   ],
   "source": [
    "x = torch.Tensor(5, 3)\n",
    "print(x)\n",
    "y = torch.Tensor(3,5)"
   ]
  },
  {
   "cell_type": "code",
   "execution_count": 6,
   "metadata": {
    "collapsed": false
   },
   "outputs": [
    {
     "data": {
      "text/plain": [
       "\n",
       " 0.0000e+00  0.0000e+00         nan -7.7330e+10  0.0000e+00\n",
       " 0.0000e+00 -2.9740e-03         nan         inf -1.5295e-12\n",
       " 0.0000e+00 -3.6381e+09         nan        -inf -5.1723e-16\n",
       " 0.0000e+00  0.0000e+00         nan  7.2529e-12  0.0000e+00\n",
       " 0.0000e+00  0.0000e+00         nan  0.0000e+00  0.0000e+00\n",
       "[torch.FloatTensor of size 5x5]"
      ]
     },
     "execution_count": 6,
     "metadata": {},
     "output_type": "execute_result"
    }
   ],
   "source": [
    "torch.matmul(x,y)"
   ]
  },
  {
   "cell_type": "code",
   "execution_count": null,
   "metadata": {
    "collapsed": true
   },
   "outputs": [],
   "source": []
  }
 ],
 "metadata": {
  "kernelspec": {
   "display_name": "Python 3",
   "language": "python",
   "name": "python3"
  },
  "language_info": {
   "codemirror_mode": {
    "name": "ipython",
    "version": 3
   },
   "file_extension": ".py",
   "mimetype": "text/x-python",
   "name": "python",
   "nbconvert_exporter": "python",
   "pygments_lexer": "ipython3",
   "version": "3.6.4"
  }
 },
 "nbformat": 4,
 "nbformat_minor": 2
}
